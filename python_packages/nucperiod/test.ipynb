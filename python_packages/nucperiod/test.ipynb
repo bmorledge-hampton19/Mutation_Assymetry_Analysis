{
 "metadata": {
  "language_info": {
   "codemirror_mode": {
    "name": "ipython",
    "version": 3
   },
   "file_extension": ".py",
   "mimetype": "text/x-python",
   "name": "python",
   "nbconvert_exporter": "python",
   "pygments_lexer": "ipython3",
   "version": "3.6.9-final"
  },
  "orig_nbformat": 2,
  "kernelspec": {
   "name": "Python 3.6.9 64-bit",
   "display_name": "Python 3.6.9 64-bit",
   "metadata": {
    "interpreter": {
     "hash": "31f2aee4e71d21fbe5cf8b01ff0e069b9275f58929596ceb00d14d90e3e16cd6"
    }
   }
  }
 },
 "nbformat": 4,
 "nbformat_minor": 2,
 "cells": [
  {
   "cell_type": "code",
   "execution_count": null,
   "metadata": {},
   "outputs": [],
   "source": [
    "import os"
   ]
  },
  {
   "cell_type": "code",
   "execution_count": null,
   "metadata": {},
   "outputs": [],
   "source": [
    "# Generates counting radius identifiers and their relevant strings.\n",
    "class Radius:\n",
    "\n",
    "    def __init__(self, nucGroup, linkerOffset = 0):\n",
    "        \n",
    "        if nucGroup and linkerOffset != 0:\n",
    "            raise ValueError(\"nuc-group should not have any linker offset.\")\n",
    "\n",
    "        self.nucGroup = nucGroup\n",
    "        self.linkerOffset = linkerOffset\n",
    "\n",
    "    def value(self):\n",
    "        \n",
    "        if nucGroup: return(\"nucleosome group (1000 bp)\")\n",
    "\n",
    "        elif linkerOffset == 0: return(\"single nucleosome (73 bp)\")\n",
    "        else: \n",
    "            return(\"single nucleosome +\" + str(linkerOffset) + \" bp linker (\" + str(73 + linkerOffset) + \" bp)\")\n",
    "\n",
    "    def __eq__(self, otherRadius): \n",
    "        return (self.nucGroup == otherRadius.nucGroup and self.linkerOffset == otherRadius.linkerOffset)"
   ]
  },
  {
   "cell_type": "code",
   "execution_count": null,
   "metadata": {
    "tags": []
   },
   "outputs": [],
   "source": [
    "radiuses = list()\n",
    "\n",
    "radiuses.append(Radius(True))\n",
    "radiuses.append(Radius(False,42))\n",
    "radiuses.append(Radius(False))\n",
    "\n",
    "print(Radius(True) in radiuses)\n",
    "print(Radius(False,30) in radiuses)\n",
    "print(radiuses[0] != radiuses[1])"
   ]
  },
  {
   "cell_type": "code",
   "execution_count": null,
   "metadata": {
    "tags": []
   },
   "outputs": [],
   "source": [
    "test = 2\n",
    "\n",
    "print(\"1{}3\".\n",
    "    format(test))"
   ]
  },
  {
   "cell_type": "code",
   "execution_count": 2,
   "metadata": {
    "tags": []
   },
   "outputs": [
    {
     "output_type": "stream",
     "name": "stdout",
     "text": "/usr\n/usr\n/usr\n"
    }
   ],
   "source": [
    "import sys\n",
    "print(sys.prefix)\n",
    "print(sys.base_prefix)\n",
    "print(sys.exec_prefix)"
   ]
  },
  {
   "cell_type": "code",
   "execution_count": null,
   "metadata": {},
   "outputs": [],
   "source": []
  }
 ]
}